{
 "cells": [
  {
   "cell_type": "raw",
   "id": "1d2d056f",
   "metadata": {},
   "source": [
    "Name:- Pratik Dnyaneshwar Sonune\n",
    "Branch:- Data Science\n",
    "Section:- A\n",
    "Roll No.:- 41"
   ]
  },
  {
   "cell_type": "markdown",
   "id": "b132a765",
   "metadata": {},
   "source": [
    "To implement array creation & logic functions using NumPy."
   ]
  },
  {
   "cell_type": "code",
   "execution_count": 5,
   "id": "26ea4e0f",
   "metadata": {},
   "outputs": [],
   "source": [
    "import numpy as np"
   ]
  },
  {
   "cell_type": "code",
   "execution_count": 6,
   "id": "0d4aa45c",
   "metadata": {},
   "outputs": [
    {
     "name": "stdout",
     "output_type": "stream",
     "text": [
      "Operation between two lists =  [ True False False False]\n"
     ]
    }
   ],
   "source": [
    "list1 = [True, False, True, False]\n",
    "\n",
    "list2 = [True, True, False, True]\n",
    "\n",
    "print('Operation between two lists = ',np.logical_and(list1, list2))"
   ]
  },
  {
   "cell_type": "code",
   "execution_count": 15,
   "id": "7e196c30",
   "metadata": {},
   "outputs": [
    {
     "name": "stdout",
     "output_type": "stream",
     "text": [
      "Operation between two lists: [False  True  True  True  True False]\n"
     ]
    }
   ],
   "source": [
    "list1 = [1, 2, 3, 4, 5, 0]\n",
    "  \n",
    "list2 = [0, 1, 2, 3, 4, 0]\n",
    "  \n",
    "print('Operation between two lists:', np.logical_and(list1, list2))"
   ]
  },
  {
   "cell_type": "code",
   "execution_count": 8,
   "id": "83e71566",
   "metadata": {},
   "outputs": [
    {
     "name": "stdout",
     "output_type": "stream",
     "text": [
      "logical_or operation =   True\n",
      "logical or Operation between two variables =   True\n",
      "logical or Operation between two variables =   False\n",
      "Operation between two lists =   [ True  True  True  True  True False]\n"
     ]
    }
   ],
   "source": [
    "print('logical_or operation =  ', np.logical_or(True, False))\n",
    "  \n",
    "a = 2\n",
    "b = 6\n",
    "print('logical or Operation between two variables =  ', np.logical_or(a, b))\n",
    "\n",
    "\n",
    "a = 0\n",
    "b = 0\n",
    "print('logical or Operation between two variables =  ', np.logical_or(a, b))\n",
    "  \n",
    "  \n",
    "list1 = [1, 2, 3, 4, 5, 0]\n",
    "list2 = [0, 1, 2, 3, 4, 0]\n",
    "\n",
    "print('Operation between two lists =  ', np.logical_or(list1, list2))"
   ]
  },
  {
   "cell_type": "code",
   "execution_count": 9,
   "id": "d91a867a",
   "metadata": {},
   "outputs": [
    {
     "name": "stdout",
     "output_type": "stream",
     "text": [
      "logical_not operation =  False\n",
      "logical_not Operation =  False\n",
      "logical_not Operation =  False\n",
      "Operation in list =  [False False False False False  True]\n"
     ]
    }
   ],
   "source": [
    "print('logical_not operation = ',np.logical_not(True))\n",
    "\n",
    "a = 2\n",
    "b = 6\n",
    "print('logical_not Operation = ',np.logical_not(a))\n",
    "print('logical_not Operation = ',np.logical_not(b))\n",
    "\n",
    "\n",
    "list1 = [1, 2, 3, 4, 5, 0]\n",
    "\n",
    "print('Operation in list = ',np.logical_not(list1))\n"
   ]
  },
  {
   "cell_type": "code",
   "execution_count": 10,
   "id": "dd0cb33e",
   "metadata": {},
   "outputs": [
    {
     "name": "stdout",
     "output_type": "stream",
     "text": [
      "Operation between true and true ( 1 and 1) =  False\n",
      "Operation between true and false ( 1 and 0) =  True\n",
      "Operation between false and true ( 0 and 1) =  True\n",
      "Operation between false and false (0 and 0)=  False\n",
      "Operation between two lists =  [False  True  True  True]\n",
      "Operation between two lists =  [ True False False False False False]\n"
     ]
    }
   ],
   "source": [
    "print('Operation between true and true ( 1 and 1) = ',np.logical_xor(True, True))\n",
    "print('Operation between true and false ( 1 and 0) = ',np.logical_xor(True, False))\n",
    "print('Operation between false and true ( 0 and 1) = ',np.logical_xor(False, True))\n",
    "print('Operation between false and false (0 and 0)= ',np.logical_xor(False, False))\n",
    "\n",
    "\n",
    "list1 = [True, False, True, False]\n",
    "list2 = [True, True, False, True]\n",
    "\n",
    "print('Operation between two lists = ',np.logical_xor(list1, list2))\n",
    "\n",
    "\n",
    "list1 = [1, 2, 3, 4, 5, 0]\n",
    "list2 = [0, 1, 2, 3, 4, 0]\n",
    "\n",
    "print('Operation between two lists = ',np.logical_xor(list1, list2))\n"
   ]
  },
  {
   "cell_type": "code",
   "execution_count": 17,
   "id": "d2a188cd",
   "metadata": {},
   "outputs": [
    {
     "data": {
      "text/plain": [
       "array([0, 1, 2, 3, 4, 5])"
      ]
     },
     "execution_count": 17,
     "metadata": {},
     "output_type": "execute_result"
    }
   ],
   "source": [
    "x = np.arange(6)\n",
    "x"
   ]
  },
  {
   "cell_type": "code",
   "execution_count": 18,
   "id": "c694e9b1",
   "metadata": {},
   "outputs": [
    {
     "data": {
      "text/plain": [
       "array([False, False,  True,  True, False, False])"
      ]
     },
     "execution_count": 18,
     "metadata": {},
     "output_type": "execute_result"
    }
   ],
   "source": [
    "np.logical_and(x>1, x<4)"
   ]
  },
  {
   "cell_type": "code",
   "execution_count": null,
   "id": "68d9556e",
   "metadata": {},
   "outputs": [],
   "source": []
  }
 ],
 "metadata": {
  "kernelspec": {
   "display_name": "Python 3",
   "language": "python",
   "name": "python3"
  },
  "language_info": {
   "codemirror_mode": {
    "name": "ipython",
    "version": 3
   },
   "file_extension": ".py",
   "mimetype": "text/x-python",
   "name": "python",
   "nbconvert_exporter": "python",
   "pygments_lexer": "ipython3",
   "version": "3.8.8"
  }
 },
 "nbformat": 4,
 "nbformat_minor": 5
}
